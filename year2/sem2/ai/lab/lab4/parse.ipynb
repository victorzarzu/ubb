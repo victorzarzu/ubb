{
 "cells": [
  {
   "cell_type": "code",
   "execution_count": 2,
   "metadata": {},
   "outputs": [],
   "source": [
    "import os\n",
    "import numpy as np"
   ]
  },
  {
   "cell_type": "code",
   "execution_count": null,
   "metadata": {},
   "outputs": [],
   "source": [
    "def createGraph(nodes, outputfile, p = 0.4, minWeight = 1, maxWeight = 1000, infinity = 0x3f3f3f3f):\n",
    "    with open(outputfile, 'w') as file:\n",
    "        file.write(str(nodes) + \"\\n\")\n",
    "        for i in range(nodes):\n",
    "            row = \"\"\n",
    "            for j in range(nodes):\n",
    "                if i == j:\n",
    "                    row += str(0) + \",\"\n",
    "                elif np.random.random() <= p:\n",
    "                    row += str(np.random.randint(minWeight, maxWeight + 1)) + \",\"\n",
    "                else:\n",
    "                    row += str(infinity) + \",\"\n",
    "            row = row[:-1] + \"\\n\"\n",
    "            file.write(row)\n",
    "        start = np.random.randint(1, nodes + 1)\n",
    "        end = start\n",
    "        while end == start:\n",
    "            end = np.random.randint(1, nodes + 1)\n",
    "\n",
    "        file.write(str(start) + \"\\n\")\n",
    "        file.write(str(end) + \"\\n\")\n",
    "\n",
    "createGraph(5, os.path.join(os.getcwd(), 'data_sp', 'unu.txt'))\n",
    "createGraph(4, os.path.join(os.getcwd(), 'data_sp', 'doi.txt'))\n",
    "createGraph(7, os.path.join(os.getcwd(), 'data_sp', 'trei.txt'))\n",
    "createGraph(9, os.path.join(os.getcwd(), 'data_sp', 'patru.txt'), minWeight=10, maxWeight=100)\n",
    "createGraph(11, os.path.join(os.getcwd(), 'data_sp', 'cinci.txt'))\n",
    "createGraph(15, os.path.join(os.getcwd(), 'data_sp', 'sase.txt'), minWeight=25, maxWeight=500)\n",
    "createGraph(30, os.path.join(os.getcwd(), 'data_sp', 'sapte.txt'))\n",
    "createGraph(50, os.path.join(os.getcwd(), 'data_sp', 'opt.txt'))\n",
    "createGraph(100, os.path.join(os.getcwd(), 'data_sp', 'noua.txt'), minWeight=10, maxWeight=50)"
   ]
  }
 ],
 "metadata": {
  "kernelspec": {
   "display_name": "base",
   "language": "python",
   "name": "python3"
  },
  "language_info": {
   "codemirror_mode": {
    "name": "ipython",
    "version": 3
   },
   "file_extension": ".py",
   "mimetype": "text/x-python",
   "name": "python",
   "nbconvert_exporter": "python",
   "pygments_lexer": "ipython3",
   "version": "3.10.6"
  },
  "orig_nbformat": 4,
  "vscode": {
   "interpreter": {
    "hash": "c6e4e9f98eb68ad3b7c296f83d20e6de614cb42e90992a65aa266555a3137d0d"
   }
  }
 },
 "nbformat": 4,
 "nbformat_minor": 2
}
