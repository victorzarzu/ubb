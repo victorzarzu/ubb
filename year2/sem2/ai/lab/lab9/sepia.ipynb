{
 "cells": [
  {
   "cell_type": "code",
   "execution_count": 508,
   "metadata": {},
   "outputs": [],
   "source": [
    "import numpy as np\n",
    "import matplotlib.pyplot as plt\n",
    "import math\n",
    "import torch\n",
    "import torchvision\n",
    "import copy\n",
    "from PIL import Image\n",
    "import os\n",
    "import json\n",
    "import torch\n",
    "import torch.nn.functional as F\n",
    "from datetime import datetime\n",
    "from torchvision.transforms import transforms\n",
    "import random"
   ]
  },
  {
   "cell_type": "code",
   "execution_count": 509,
   "metadata": {},
   "outputs": [
    {
     "name": "stdout",
     "output_type": "stream",
     "text": [
      "mps\n"
     ]
    }
   ],
   "source": [
    "device = \"mps\" if getattr(torch, \"has_mps\", False) else \"gpu\" if torch.cuda.is_available() else \"cpu\"\n",
    "print(device)"
   ]
  },
  {
   "cell_type": "code",
   "execution_count": 510,
   "metadata": {},
   "outputs": [],
   "source": [
    "np.random.seed(42)\n",
    "TRAIN_PERCENTAGE = 0.4\n",
    "VAL_PERCENTAGE = 0.1\n",
    "TEST_PERCENTAGE = 0.1\n",
    "REST_PERCENTAGE = 0.4\n",
    "THRESHOLD = 0.5\n",
    "\n",
    "EPOCHS = 16 \n",
    "\n",
    "LR = 0.003\n",
    "MOMENTUM = 0.9"
   ]
  },
  {
   "cell_type": "code",
   "execution_count": 511,
   "metadata": {},
   "outputs": [
    {
     "data": {
      "text/plain": [
       "'\\nnormal = False\\nsep = False\\n\\nfor id, (image, target) in enumerate(train_set.dataset):\\n    if target == 0 and not normal:\\n        normal = True\\n        plt.figure()\\n        plt.imshow(image)\\n    elif not sep and target == 1:\\n        sep = True\\n        plt.figure()\\n        plt.imshow(image)\\n    if normal and sep:\\n        break\\n'"
      ]
     },
     "execution_count": 511,
     "metadata": {},
     "output_type": "execute_result"
    }
   ],
   "source": [
    "transform = transforms.Compose([\n",
    "    transforms.Resize((128, 128)),  # resize the image to 512x512\n",
    "    transforms.ToTensor(),\n",
    "    transforms.Normalize((0.5, ), (0.5,))\n",
    "])\n",
    "\n",
    "sepia = torchvision.datasets.ImageFolder('./sepia/sepia', transform = transform)\n",
    "sampler = torch.utils.data.RandomSampler(sepia)\n",
    "dataset = torch.utils.data.DataLoader(sepia, num_workers = 0, shuffle = True)\n",
    "\n",
    "train_size = int(len(sepia) * TRAIN_PERCENTAGE)\n",
    "val_size = int(len(sepia) * VAL_PERCENTAGE)\n",
    "test_size = int(len(sepia) * TEST_PERCENTAGE)\n",
    "rest_size = len(sepia) - train_size - val_size - test_size\n",
    "\n",
    "shuffle_dataset = True\n",
    "if shuffle_dataset:\n",
    "    dataset_size = len(sepia)\n",
    "    indices = list(range(dataset_size))\n",
    "    np.random.shuffle(indices)\n",
    "    sepia = torch.utils.data.Subset(sepia, indices)\n",
    "\n",
    "train_set, val_set, test_set, rest_set = torch.utils.data.random_split(sepia, [train_size, val_size, test_size, rest_size])\n",
    "\n",
    "train_loader = torch.utils.data.DataLoader(train_set, batch_size = 32, shuffle = True)\n",
    "val_loader = torch.utils.data.DataLoader(val_set, batch_size = 32, shuffle = True)\n",
    "test_loader = torch.utils.data.DataLoader(test_set, batch_size = 32, shuffle = True)\n",
    "\n",
    "\"\"\"\n",
    "normal = False\n",
    "sep = False\n",
    "\n",
    "for id, (image, target) in enumerate(train_set.dataset):\n",
    "    if target == 0 and not normal:\n",
    "        normal = True\n",
    "        plt.figure()\n",
    "        plt.imshow(image)\n",
    "    elif not sep and target == 1:\n",
    "        sep = True\n",
    "        plt.figure()\n",
    "        plt.imshow(image)\n",
    "    if normal and sep:\n",
    "        break\n",
    "\"\"\""
   ]
  },
  {
   "cell_type": "code",
   "execution_count": 512,
   "metadata": {},
   "outputs": [],
   "source": [
    "class LeNet(torch.nn.Module):\n",
    "\n",
    "    def __init__(self):\n",
    "        super(LeNet, self).__init__()\n",
    "\n",
    "        self.conv1 = torch.nn.Conv2d(3, 8, 17)\n",
    "        self.conv2 = torch.nn.Conv2d(8, 16, 9) \n",
    "\n",
    "        self.flatten = torch.nn.Flatten()\n",
    "        self.l2 = torch.nn.Linear(16 * 24 * 24, 84)\n",
    "        self.l3 = torch.nn.Linear(84, 1)\n",
    "    \n",
    "    def forward(self, x):\n",
    "        x = F.max_pool2d(F.relu(self.conv1(x)), (2, 2))\n",
    "        x = F.max_pool2d(F.relu(self.conv2(x)), (2, 2))\n",
    "        #x = F.max_pool2d(F.relu(self.conv3(x)), (2, 2))\n",
    "\n",
    "        x = x.view(-1, 16 * 24 * 24) \n",
    "        #x = F.relu(self.l1(x))\n",
    "        x = F.relu(self.l2(x))\n",
    "        x = F.sigmoid(self.l3(x))\n",
    "\n",
    "        return x"
   ]
  },
  {
   "cell_type": "code",
   "execution_count": 513,
   "metadata": {},
   "outputs": [],
   "source": [
    "model = LeNet()\n",
    "\n",
    "optimizer = torch.optim.SGD(model.parameters(), lr = LR, weight_decay = 1e-3)\n",
    "loss_fn = torch.nn.BCELoss()"
   ]
  },
  {
   "cell_type": "code",
   "execution_count": 514,
   "metadata": {},
   "outputs": [],
   "source": [
    "def compute_accuracy(predicted, labels):\n",
    "    predicted = [1 if pred.item() > THRESHOLD else 0 for pred in predicted]\n",
    "    return sum([p == l.item() for p, l in zip(predicted, labels)]) / len(predicted)"
   ]
  },
  {
   "cell_type": "code",
   "execution_count": 515,
   "metadata": {},
   "outputs": [],
   "source": [
    "def stats(model, loader):\n",
    "    avg_loss = 0\n",
    "    avg_accuracy = 0\n",
    "    for _, data in enumerate(loader):\n",
    "        inputs, labels = data\n",
    "        outputs = model(inputs)\n",
    "        loss = loss_fn(outputs, labels.unsqueeze(1).float())\n",
    "        avg_accuracy += compute_accuracy(outputs, labels)\n",
    "        avg_loss += loss.item()\n",
    "    \n",
    "    return avg_loss / len(loader), avg_accuracy / len(loader)"
   ]
  },
  {
   "cell_type": "code",
   "execution_count": 516,
   "metadata": {},
   "outputs": [],
   "source": [
    "def train_one_epoch(epoch_index, writer):\n",
    "    avg_loss = 0\n",
    "    avg_accuracy = 0\n",
    "\n",
    "    for _, data in enumerate(train_loader):\n",
    "        inputs, labels = data\n",
    "\n",
    "        optimizer.zero_grad()\n",
    "\n",
    "        outputs = model.forward(inputs)\n",
    "\n",
    "        loss = loss_fn(outputs, labels.unsqueeze(1).float())\n",
    "        loss.backward()\n",
    "\n",
    "        optimizer.step()"
   ]
  },
  {
   "cell_type": "code",
   "execution_count": 517,
   "metadata": {},
   "outputs": [],
   "source": [
    "timestamp = datetime.now().strftime('%Y%m%d_%H%M%S')\n",
    "#writer = torch.utils.tensorboard.SummaryWriter('./runs/sepia_filter_{}'.format(timestamp))\n",
    "\n",
    "def train(model, writer):\n",
    "\n",
    "    train_acc = []\n",
    "    val_acc = []\n",
    "    train_loss = []\n",
    "    val_loss = []\n",
    "    for epoch in range(EPOCHS):\n",
    "        print('EPOCH {}'.format(epoch + 1))\n",
    "\n",
    "        model.train(True)\n",
    "        train_one_epoch(epoch + 1, writer)\n",
    "        model.train(False)\n",
    "\n",
    "        avg_loss, avg_accuracy = stats(model, train_loader)\n",
    "        train_acc.append(avg_accuracy)\n",
    "        train_loss.append(avg_loss)\n",
    "\n",
    "        running_vloss = 0\n",
    "        avg_vaccuracy = 0\n",
    "        for _, vdata in enumerate(val_loader):\n",
    "            vinputs, vlabels = vdata\n",
    "            voutputs = model(vinputs)\n",
    "            vloss = loss_fn(voutputs, vlabels.unsqueeze(1).float())\n",
    "            avg_vaccuracy += compute_accuracy(voutputs, vlabels)\n",
    "            running_vloss  += vloss.item()\n",
    "        \n",
    "        avg_vloss = running_vloss / (len(val_loader) + 1)\n",
    "        avg_vaccuracy  = avg_vaccuracy / len(val_loader)\n",
    "        val_acc.append(avg_vaccuracy)\n",
    "        val_loss.append(avg_vloss)\n",
    "        print('LOSS train_loss = {} train_acc = {} val_loss = {} val_acc = {}'.format(avg_loss, avg_accuracy, avg_vloss, avg_vaccuracy))\n",
    "        #writer.add_scalars('Training vs. Validation Loss',\n",
    "        #                   {'Training': avg_loss, 'Validation': avg_vloss},\n",
    "        #                   epoch + 1)\n",
    "        #writer.flush()\n",
    "    \n",
    "    return train_acc, train_loss, val_acc, val_loss"
   ]
  },
  {
   "cell_type": "code",
   "execution_count": 518,
   "metadata": {},
   "outputs": [],
   "source": [
    "def plot_stats(train_acc, train_loss, val_acc, val_loss):\n",
    "    rng = list(range(1, EPOCHS + 1))\n",
    "    plt.plot(rng, train_acc, '-r')\n",
    "    plt.plot(rng, train_loss, '-g')\n",
    "    plt.plot(rng, val_acc, '-b')\n",
    "    plt.plot(rng, val_loss, '-y')"
   ]
  },
  {
   "cell_type": "code",
   "execution_count": 519,
   "metadata": {},
   "outputs": [
    {
     "name": "stdout",
     "output_type": "stream",
     "text": [
      "EPOCH 1\n",
      "LOSS train_loss = 0.6841482778566074 train_acc = 0.7055985742379547 val_loss = 0.6624119400978088 val_acc = 0.6767241379310345\n",
      "EPOCH 2\n",
      "LOSS train_loss = 0.47415851122510116 train_acc = 0.7830936578171092 val_loss = 0.480218235651652 val_acc = 0.7618534482758621\n",
      "EPOCH 3\n",
      "LOSS train_loss = 0.2795778685702687 train_acc = 0.883081366764995 val_loss = 0.3043666993578275 val_acc = 0.8674568965517241\n",
      "EPOCH 4\n",
      "LOSS train_loss = 0.20079864294523686 train_acc = 0.9275442477876106 val_loss = 0.2289899172882239 val_acc = 0.8911637931034483\n",
      "EPOCH 5\n",
      "LOSS train_loss = 0.1875660370013355 train_acc = 0.9254547689282202 val_loss = 0.1992801236609618 val_acc = 0.9084051724137931\n",
      "EPOCH 6\n",
      "LOSS train_loss = 0.143395369905418 train_acc = 0.9436455260570304 val_loss = 0.1755378828694423 val_acc = 0.9245689655172413\n",
      "EPOCH 7\n",
      "LOSS train_loss = 0.08487508086636003 train_acc = 0.9764933628318584 val_loss = 0.11385448345293601 val_acc = 0.9515086206896551\n",
      "EPOCH 8\n",
      "LOSS train_loss = 0.10816034560907731 train_acc = 0.9684734513274337 val_loss = 0.11745516881346703 val_acc = 0.959051724137931\n",
      "EPOCH 9\n",
      "LOSS train_loss = 0.08100892556419151 train_acc = 0.9684734513274337 val_loss = 0.11860409826040268 val_acc = 0.9493534482758621\n",
      "EPOCH 10\n",
      "LOSS train_loss = 0.06678855936331428 train_acc = 0.973174778761062 val_loss = 0.10496449628844857 val_acc = 0.9568965517241379\n",
      "EPOCH 11\n",
      "LOSS train_loss = 0.04502534293528415 train_acc = 0.9875553097345132 val_loss = 0.07593916760136683 val_acc = 0.9698275862068966\n",
      "EPOCH 12\n",
      "LOSS train_loss = 0.04346073612537796 train_acc = 0.985066371681416 val_loss = 0.10870060431770981 val_acc = 0.9612068965517241\n",
      "EPOCH 13\n",
      "LOSS train_loss = 0.056097375962520596 train_acc = 0.9867256637168141 val_loss = 0.08907872407386701 val_acc = 0.9655172413793104\n",
      "EPOCH 14\n",
      "LOSS train_loss = 0.037668503025563155 train_acc = 0.9878318584070797 val_loss = 0.06781785986386239 val_acc = 0.9719827586206896\n",
      "EPOCH 15\n",
      "LOSS train_loss = 0.031408171923583854 train_acc = 0.9925331858407079 val_loss = 0.05272935889273261 val_acc = 0.9816810344827587\n",
      "EPOCH 16\n",
      "LOSS train_loss = 0.025914002413886177 train_acc = 0.9923180924287118 val_loss = 0.04880696094284455 val_acc = 0.9827586206896551\n"
     ]
    }
   ],
   "source": [
    "train_acc, train_loss, val_acc, val_loss = train(model, None)"
   ]
  },
  {
   "cell_type": "code",
   "execution_count": 520,
   "metadata": {},
   "outputs": [
    {
     "data": {
      "image/png": "[encoded data removed]",
      "text/plain": [
       "<Figure size 640x480 with 1 Axes>"
      ]
     },
     "metadata": {},
     "output_type": "display_data"
    }
   ],
   "source": [
    "plot_stats(train_acc, train_loss, val_acc, val_loss)"
   ]
  },
  {
   "cell_type": "code",
   "execution_count": 521,
   "metadata": {},
   "outputs": [
    {
     "name": "stdout",
     "output_type": "stream",
     "text": [
      "0.025564501601872982\n",
      "0.9925331858407079\n"
     ]
    }
   ],
   "source": [
    "loss, accuracy = stats(model, train_loader)\n",
    "print(loss)\n",
    "print(accuracy)"
   ]
  },
  {
   "cell_type": "code",
   "execution_count": 522,
   "metadata": {},
   "outputs": [],
   "source": [
    "class ANet(torch.nn.Module):\n",
    "\n",
    "    def __init__(self):\n",
    "        super(ANet, self).__init__()\n",
    "\n",
    "        self.l1 = torch.nn.Linear(3 * 128 * 128, 16 * 24 * 24)\n",
    "        self.l2 = torch.nn.Linear(16 * 24 * 24, 16 * 16 * 8)\n",
    "        self.l3 = torch.nn.Linear(16 * 16 * 8, 16 * 8)\n",
    "        self.l4 = torch.nn.Linear(16 * 8, 1)\n",
    "    \n",
    "    def forward(self, x):\n",
    "        x = x.view(-1, 3 * 128 * 128) \n",
    "        x = F.relu(self.l1(x))\n",
    "        x = F.relu(self.l2(x))\n",
    "        x = F.relu(self.l3(x))\n",
    "        x = F.sigmoid(self.l4(x))\n",
    "\n",
    "        return x"
   ]
  },
  {
   "cell_type": "code",
   "execution_count": 523,
   "metadata": {},
   "outputs": [],
   "source": [
    "model = ANet()\n",
    "\n",
    "optimizer = torch.optim.SGD(model.parameters(), lr = LR, weight_decay = 1e-3)\n",
    "loss_fn = torch.nn.BCELoss()"
   ]
  },
  {
   "cell_type": "code",
   "execution_count": 524,
   "metadata": {},
   "outputs": [
    {
     "name": "stdout",
     "output_type": "stream",
     "text": [
      "EPOCH 1\n",
      "LOSS train_loss = 0.6465373946502145 train_acc = 0.6960730088495575 val_loss = 0.6270689249038697 val_acc = 0.6864224137931034\n",
      "EPOCH 2\n",
      "LOSS train_loss = 0.5923984404158803 train_acc = 0.7164454277286135 val_loss = 0.5878766775131226 val_acc = 0.6831896551724138\n",
      "EPOCH 3\n",
      "LOSS train_loss = 0.5323919959827862 train_acc = 0.751198377581121 val_loss = 0.5345809449752171 val_acc = 0.7198275862068966\n",
      "EPOCH 4\n",
      "LOSS train_loss = 0.45883968920834295 train_acc = 0.7983960176991151 val_loss = 0.484335341056188 val_acc = 0.7553879310344828\n",
      "EPOCH 5\n",
      "LOSS train_loss = 0.3779512823155496 train_acc = 0.8808075221238938 val_loss = 0.4038843741019567 val_acc = 0.8243534482758621\n",
      "EPOCH 6\n",
      "LOSS train_loss = 0.30513000079488334 train_acc = 0.9080322025565388 val_loss = 0.3459152350823084 val_acc = 0.8609913793103449\n",
      "EPOCH 7\n",
      "LOSS train_loss = 0.2545724264552108 train_acc = 0.9233038348082595 val_loss = 0.2967270970344543 val_acc = 0.8836206896551724\n",
      "EPOCH 8\n",
      "LOSS train_loss = 0.22022557937729675 train_acc = 0.9336897738446411 val_loss = 0.27075550009806953 val_acc = 0.9008620689655172\n",
      "EPOCH 9\n",
      "LOSS train_loss = 0.19371349753531736 train_acc = 0.9433689773844641 val_loss = 0.2490014041463534 val_acc = 0.896551724137931\n",
      "EPOCH 10\n",
      "LOSS train_loss = 0.17696336426038659 train_acc = 0.9474557522123894 val_loss = 0.25307786017656325 val_acc = 0.8987068965517241\n",
      "EPOCH 11\n",
      "LOSS train_loss = 0.16241363703017742 train_acc = 0.9547074729596854 val_loss = 0.2277785042921702 val_acc = 0.9094827586206896\n",
      "EPOCH 12\n",
      "LOSS train_loss = 0.1475795189627504 train_acc = 0.9588557030481809 val_loss = 0.2258570636312167 val_acc = 0.9105603448275862\n",
      "EPOCH 13\n",
      "LOSS train_loss = 0.1320172108841681 train_acc = 0.9646017699115044 val_loss = 0.21873688598473867 val_acc = 0.9148706896551724\n",
      "EPOCH 14\n",
      "LOSS train_loss = 0.1259868135428534 train_acc = 0.9626659292035398 val_loss = 0.21844009459018707 val_acc = 0.9094827586206896\n",
      "EPOCH 15\n",
      "LOSS train_loss = 0.11255578047274488 train_acc = 0.974004424778761 val_loss = 0.24412302126487095 val_acc = 0.9040948275862069\n",
      "EPOCH 16\n",
      "LOSS train_loss = 0.10332985519044167 train_acc = 0.9789823008849557 val_loss = 0.2245772175490856 val_acc = 0.9116379310344828\n"
     ]
    }
   ],
   "source": [
    "train_acc, train_loss, val_acc, val_loss = train(model, None)"
   ]
  },
  {
   "cell_type": "code",
   "execution_count": 525,
   "metadata": {},
   "outputs": [
    {
     "data": {
      "image/png": "[encoded data removed]",
      "text/plain": [
       "<Figure size 640x480 with 1 Axes>"
      ]
     },
     "metadata": {},
     "output_type": "display_data"
    }
   ],
   "source": [
    "plot_stats(train_acc, train_loss, val_acc, val_loss)"
   ]
  }
 ],
 "metadata": {
  "kernelspec": {
   "display_name": "base",
   "language": "python",
   "name": "python3"
  },
  "language_info": {
   "codemirror_mode": {
    "name": "ipython",
    "version": 3
   },
   "file_extension": ".py",
   "mimetype": "text/x-python",
   "name": "python",
   "nbconvert_exporter": "python",
   "pygments_lexer": "ipython3",
   "version": "3.10.10"
  },
  "orig_nbformat": 4
 },
 "nbformat": 4,
 "nbformat_minor": 2
}
