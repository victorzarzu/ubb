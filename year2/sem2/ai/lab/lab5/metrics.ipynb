{
 "cells": [
  {
   "cell_type": "code",
   "execution_count": 1,
   "metadata": {},
   "outputs": [],
   "source": [
    "import os\n",
    "import numpy as np\n",
    "import networkx as nx\n",
    "import matplotlib.pyplot as plt\n",
    "import warnings\n",
    "import pandas as pd\n",
    "import math\n",
    "\n",
    "from networkx.algorithms import community\n",
    "\n",
    "warnings.simplefilter('ignore')"
   ]
  },
  {
   "cell_type": "code",
   "execution_count": 2,
   "metadata": {},
   "outputs": [],
   "source": [
    "class RegressionMetrics:\n",
    "\n",
    "    \"\"\"\n",
    "    Metoda care calculeaza eroarea de regresie single-output pe baza unei functii\n",
    "    @params: predicted - the values computed by the model\n",
    "             target - the actual values\n",
    "             function - the function to be applied to the difference between the values\n",
    "    @return: float\n",
    "    \"\"\"\n",
    "    @classmethod\n",
    "    def __SingleError(cls, predicted, target, function = lambda x : x):\n",
    "        return (1 / len(predicted)) * sum([function(p - t) for p, t in zip(predicted, target)])\n",
    "\n",
    "    \"\"\"\n",
    "    Metoda care calculeaza Mean Absolute Error pentru regresie single-output \n",
    "    @params: predicted - the values computed by the model\n",
    "             target - the actual values\n",
    "    @return: float\n",
    "    \"\"\"\n",
    "    @classmethod\n",
    "    def SingleMAE(cls, predicted, target):\n",
    "        return RegressionMetrics.__SingleError(predicted, target, lambda x : abs(x))\n",
    "\n",
    "    \"\"\"\n",
    "    Metoda care calculeaza Mean Square Error pentru regresie single-output\n",
    "    @params: predicted - the values computed by the model\n",
    "             target - the actual values\n",
    "    @return: float\n",
    "    \"\"\"\n",
    "    @classmethod\n",
    "    def SingleMSE(cls, predicted, target):\n",
    "        return RegressionMetrics.__SingleError(predicted, target, lambda x : x ** 2)\n",
    "\n",
    "    \"\"\"\n",
    "    Metoda care calculeaza Root Mean Square Error pentru regresie single-output \n",
    "    @params: predicted - the values computed by the model\n",
    "             target - the actual values\n",
    "    @return: float\n",
    "    \"\"\"\n",
    "    @classmethod\n",
    "    def SingleRMSE(cls, predicted, target):\n",
    "        return math.sqrt(RegressionMetrics.SingleMSE(predicted, target))\n",
    "    \n",
    "    \"\"\"\n",
    "    Metoda care calculeaza eroarea de regresie multi-output pe baza unei functii\n",
    "    @params: predicted - the values computed by the model\n",
    "             target - the actual values\n",
    "             function - the function to be applied to the difference between the values\n",
    "    @return: float\n",
    "    \"\"\"\n",
    "    @classmethod\n",
    "    def __MultiError(cls, predicted, target, errorFunction):\n",
    "        return sum([errorFunction(pre, tar) for pre, tar in zip([[pre[i] for pre in predicted] for i in range(len(predicted[0]))], [[tar[i] for tar in target] for i in range(len(target[0]))])])\n",
    "\n",
    "    \"\"\"\n",
    "    Metoda care calculeaza Mean Absolute Error pentru regresie multi-output \n",
    "    @params: predicted - the values computed by the model\n",
    "             target - the actual values\n",
    "    @return: float\n",
    "    \"\"\"\n",
    "    @classmethod \n",
    "    def MultiMAE(cls, predicted, target):\n",
    "        return RegressionMetrics.__MultiError(predicted, target, RegressionMetrics.SingleMAE)\n",
    "\n",
    "    \"\"\"\n",
    "    Metoda care calculeaza Mean Square Error pentru regresie multi-output \n",
    "    @params: predicted - the values computed by the model\n",
    "             target - the actual values\n",
    "    @return: float\n",
    "    \"\"\"\n",
    "    @classmethod \n",
    "    def MultiMSE(cls, predicted, target):\n",
    "        return RegressionMetrics.__MultiError(predicted, target, RegressionMetrics.SingleMSE)\n",
    "\n",
    "    \"\"\"\n",
    "    Metoda care calculeaza Root Mean Square Error pentru regresie multi-output \n",
    "    @params: predicted - the values computed by the model\n",
    "             target - the actual values\n",
    "    @return: float\n",
    "    \"\"\"\n",
    "    @classmethod\n",
    "    def MultiRMSE(cls, predicted, target):\n",
    "        return math.sqrt(RegressionMetrics.MultiMSE(predicted, target))"
   ]
  },
  {
   "cell_type": "code",
   "execution_count": 3,
   "metadata": {},
   "outputs": [],
   "source": [
    "class ClassificationMetrics:\n",
    "\n",
    "    \"\"\"\n",
    "    Metoda care calculeaza acuratetea de predictie pentru o clasificare single label\n",
    "    @params: predicted - the classes predicted by the model\n",
    "             target - the actual classes\n",
    "    @return: integer\n",
    "    \"\"\"\n",
    "    @classmethod\n",
    "    def Accuracy(cls, predicted, target):\n",
    "        return (1 / len(predicted)) * sum([p == t for p, t in zip(predicted, target)])\n",
    "    \n",
    "    \"\"\"\n",
    "    Metoda care calculeaza precizia pentru o clasificare binara\n",
    "    @params: predicted - the classes predicted by the model\n",
    "             target - the actual classes\n",
    "    @return: integer\n",
    "    \"\"\"\n",
    "    @classmethod\n",
    "    def BinaryPrecision(cls, predicted, target, trueLabel = 1):\n",
    "        return (sum([p == t for p, t in zip(predicted, target) if t == trueLabel])) / (sum([p == trueLabel for p in predicted]))\n",
    "    \n",
    "    \"\"\"\n",
    "    Metoda care calculeaza recall-ul pentru o clasificare binara\n",
    "    @params: predicted - the classes predicted by the model\n",
    "             target - the actual classes\n",
    "    @return: integer\n",
    "    \"\"\"\n",
    "    @classmethod\n",
    "    def BinaryRecall(cls, predicted, target, trueLabel = 1):\n",
    "        return sum([p == trueLabel for p in predicted]) / sum([t == trueLabel for t in target])\n",
    "\n",
    "    \"\"\"\n",
    "    Metoda care calculeaza acuratetea, precizia si recall-ul pentru o clasificare binara\n",
    "    @params: predicted - the classes predicted by the model\n",
    "             target - the actual classes\n",
    "    @return: un dictionar care cuprinde metricile\n",
    "    \"\"\"\n",
    "    @classmethod\n",
    "    def BinaryMetrics(cls, predicted, target, trueLabel, falseLabel):\n",
    "        accuracy = sum([label == targetLabel for label, targetLabel in zip(predicted, target)]) / len(predicted)\n",
    "\n",
    "        TP = sum([plabel == trueLabel for plabel, tlabel in zip(predicted, target) if tlabel == trueLabel])\n",
    "        TN = sum([plabel == falseLabel for plabel, tlabel in zip(predicted, target) if tlabel == falseLabel])\n",
    "        FP = sum([plabel == trueLabel for plabel, tlabel in zip(predicted, target) if tlabel == falseLabel])\n",
    "        FN = sum([plabel == falseLabel for plabel, tlabel in zip(predicted, target) if tlabel == trueLabel])\n",
    "\n",
    "        precisionPos = TP / (TP + FP)\n",
    "        recallPos = TP / (TP + FN)\n",
    "        precisionNeg = TN / (TN + FN)\n",
    "        recallNeg = TN / (TN + FP)\n",
    "\n",
    "        return {'accuracy': accuracy, 'precision positive': precisionPos, 'recall positive': recallPos, 'precision negative': precisionNeg, 'recall negative': recallNeg}\n",
    "    \n",
    "    \"\"\"\n",
    "    Metoda care calculeaza precizia de predictie pentru o clasificare multi class\n",
    "    @params: predicted - the classes predicted by the model\n",
    "             target - the actual classes\n",
    "    @return: integer\n",
    "    \"\"\"\n",
    "    @classmethod\n",
    "    def MultiPrecision(cls, predicted, target):\n",
    "        return dict([x, sum([y == z for y, z in zip(predicted, target) if y == x]) / sum(y == x for y in predicted)] for x in np.unique(target))\n",
    "\n",
    "    \"\"\"\n",
    "    Metoda care calculeaza recall-ul pentru o clasificare multi class\n",
    "    @params: predicted - the classes predicted by the model\n",
    "             target - the actual classes\n",
    "    @return: integer\n",
    "    \"\"\"\n",
    "    @classmethod\n",
    "    def MultiRecall(cls, predicted, target):\n",
    "        return dict([x, sum([y == z for y, z in zip(predicted, target) if y == x]) / sum(y == x for y in target)] for x in np.unique(target))\n",
    "    \n",
    "    \"\"\"\n",
    "    Metoda care calculeaza acuratetea, precizia si recall-ul pentru o clasificare cu mai mult de 2 output-uri posibile\n",
    "    @params: predicted - the classes predicted by the model\n",
    "             target - the actual classes\n",
    "    @return: un dictionar care cuprinde metricile\n",
    "    \"\"\"\n",
    "    @classmethod\n",
    "    def MultiMetrics(cls, predicted, target):\n",
    "        return {'precision': ClassificationMetrics.MultiPrecision(predicted, target), 'recall':  ClassificationMetrics.MultiRecall(predicted, target)}\n",
    "\n",
    "    \"\"\"\n",
    "    Metoda care calculeaza cross-entropy loss pentru o clasificare binara\n",
    "    @params: matrix - a matrix of dimension noSamples x 2, each row having probabilities that sum up to 1 \n",
    "             target - the actual classes\n",
    "    @return: integer\n",
    "    \"\"\"\n",
    "    @classmethod\n",
    "    def BinaryCrossEntropy(cls, matrix, target):\n",
    "        return - (1 / len(matrix)) * sum([(t * math.log2(row[0]) + (1 - t) * math.log2(row[1])) for row, t in zip(matrix, target)])\n",
    "\n",
    "    \"\"\"\n",
    "    Metoda care calculeaza cross-entropy loss pentru o clasificare multi-class\n",
    "    @params: matrix - a matrix of dimension noSamples x noClasses, each row having probabilities that sum up to 1 \n",
    "             target - the actual classes\n",
    "    @return: integer\n",
    "    \"\"\"\n",
    "    @classmethod\n",
    "    def CrossEntropy(cls, matrix, target):\n",
    "        return - (1 / len(matrix)) * sum([sum([t * math.log2(r) for t, r in zip(tar, row)]) for row, tar in zip(matrix, target)])\n",
    "\n",
    "    \"\"\"\n",
    "    Metoda care calculeaza cross-entropy loss pentru o clasificare multi-label\n",
    "    @params: matrix - a matrix of dimension noSamples x noClasses, each row having probabilities of having the correspoding label\n",
    "             target - the actual classes\n",
    "    @return: java\n",
    "    \"\"\"\n",
    "    @classmethod\n",
    "    def MultiLabelLoss(cls, matrix, target):\n",
    "        return - (1 / len(matrix)) * sum([sum([t * math.log2(r) + (1 - t) * math.log2(1 - r) for t, r in zip(tar, row)]) for row, tar in zip(matrix, target)])"
   ]
  },
  {
   "cell_type": "code",
   "execution_count": 4,
   "metadata": {},
   "outputs": [],
   "source": [
    "def readData(filename):\n",
    "    df = pd.read_csv(filename)\n",
    "\n",
    "    predicted = [] \n",
    "    target = [] \n",
    "\n",
    "    predictedColumns = [x for x in df.columns if 'predicted' in x.lower()]\n",
    "    targetColumns = [x for x in df.columns if 'predicted' not in x.lower()]\n",
    "\n",
    "    for _, row in df.iterrows():\n",
    "        predicted.append([row[x] for x in predictedColumns])\n",
    "        target.append([row[x] for x in targetColumns])\n",
    "    \n",
    "    if len(predictedColumns) == 1:\n",
    "        return [np.squeeze(predicted), np.squeeze(target)]\n",
    "    return [np.array(predicted), np.array(target)]"
   ]
  },
  {
   "cell_type": "code",
   "execution_count": 5,
   "metadata": {},
   "outputs": [
    {
     "data": {
      "text/plain": [
       "8.15"
      ]
     },
     "execution_count": 5,
     "metadata": {},
     "output_type": "execute_result"
    }
   ],
   "source": [
    "[predicted, target]  = readData('sports.csv')\n",
    "RegressionMetrics.MultiMAE(predicted, target)"
   ]
  },
  {
   "cell_type": "code",
   "execution_count": 6,
   "metadata": {},
   "outputs": [
    {
     "data": {
      "text/plain": [
       "{'accuracy': 0.6,\n",
       " 'precision positive': 0.5,\n",
       " 'recall positive': 0.5,\n",
       " 'precision negative': 0.6666666666666666,\n",
       " 'recall negative': 0.6666666666666666}"
      ]
     },
     "execution_count": 6,
     "metadata": {},
     "output_type": "execute_result"
    }
   ],
   "source": [
    "predicted = [1, 0, 1, 0, 0]\n",
    "target = [1, 0, 0, 1, 0]\n",
    "ClassificationMetrics.BinaryMetrics(predicted, target, 1, 0)"
   ]
  },
  {
   "cell_type": "code",
   "execution_count": 7,
   "metadata": {},
   "outputs": [
    {
     "name": "stdout",
     "output_type": "stream",
     "text": [
      "{'Daisy': 0.36363636363636365, 'Rose': 0.25, 'Tulip': 0.2857142857142857}\n",
      "{'Daisy': 0.36363636363636365, 'Rose': 0.25, 'Tulip': 0.2857142857142857}\n"
     ]
    }
   ],
   "source": [
    "[predicted, target]  = readData('flowers.csv')\n",
    "print(ClassificationMetrics.MultiPrecision(predicted, target))\n",
    "print(ClassificationMetrics.MultiRecall(predicted, target))"
   ]
  },
  {
   "cell_type": "code",
   "execution_count": 8,
   "metadata": {},
   "outputs": [
    {
     "name": "stdout",
     "output_type": "stream",
     "text": [
      "0.36848279708310305\n"
     ]
    }
   ],
   "source": [
    "matrix = [[0.8, 0.2], [0.25, 0.75]]\n",
    "target = [1, 0]\n",
    "print(ClassificationMetrics.BinaryCrossEntropy(matrix, target))"
   ]
  },
  {
   "cell_type": "code",
   "execution_count": 9,
   "metadata": {},
   "outputs": [
    {
     "name": "stdout",
     "output_type": "stream",
     "text": [
      "0.49131039611080407\n"
     ]
    }
   ],
   "source": [
    "matrix = [[0.8, 0.19, 0.01], [0.2, 0.75, 0.05], [0.23, 0.17, 0.6]]\n",
    "target = [[1, 0, 0], [0, 1, 0], [0, 0, 1]]\n",
    "print(ClassificationMetrics.CrossEntropy(matrix, target))"
   ]
  },
  {
   "cell_type": "code",
   "execution_count": 10,
   "metadata": {},
   "outputs": [
    {
     "name": "stdout",
     "output_type": "stream",
     "text": [
      "1.510588415479651\n"
     ]
    }
   ],
   "source": [
    "matrix = [[0.9, 0.19, 0.95], [0.2, 0.75, 0.85], [0.8, 0.17, 0.9]]\n",
    "target = [[1, 0, 1], [0, 1, 1], [1, 1, 1]]\n",
    "print(ClassificationMetrics.MultiLabelLoss(matrix, target))"
   ]
  }
 ],
 "metadata": {
  "kernelspec": {
   "display_name": "base",
   "language": "python",
   "name": "python3"
  },
  "language_info": {
   "codemirror_mode": {
    "name": "ipython",
    "version": 3
   },
   "file_extension": ".py",
   "mimetype": "text/x-python",
   "name": "python",
   "nbconvert_exporter": "python",
   "pygments_lexer": "ipython3",
   "version": "3.10.6"
  },
  "orig_nbformat": 4
 },
 "nbformat": 4,
 "nbformat_minor": 2
}
