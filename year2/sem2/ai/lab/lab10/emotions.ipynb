{
 "cells": [
  {
   "cell_type": "code",
   "execution_count": 5,
   "metadata": {},
   "outputs": [],
   "source": [
    "import csv\n",
    "import os\n",
    "import math\n",
    "import copy\n",
    "import pandas as pd\n",
    "import numpy as np\n",
    "import matplotlib.pyplot as plt\n",
    "from sklearn.feature_extraction.text import CountVectorizer, TfidfVectorizer\n",
    "from sklearn.cluster import KMeans\n",
    "from sklearn.metrics import accuracy_score\n",
    "import gensim\n",
    "import torch\n",
    "import torch.nn.functional as F\n",
    "from datetime import datetime\n",
    "from torchvision.transforms import transforms\n",
    "import nltk\n",
    "from nltk.sentiment import SentimentIntensityAnalyzer"
   ]
  },
  {
   "cell_type": "code",
   "execution_count": 6,
   "metadata": {},
   "outputs": [],
   "source": [
    "np.random.seed(5)"
   ]
  },
  {
   "cell_type": "code",
   "execution_count": 7,
   "metadata": {},
   "outputs": [],
   "source": [
    "TRAIN_PERCENTAGE = 0.8\n",
    "LR = 0.003\n",
    "EPOCHS = 256\n",
    "THRESHOLD = 0.5\n",
    "MOMENTUM = 0.75"
   ]
  },
  {
   "cell_type": "code",
   "execution_count": 8,
   "metadata": {},
   "outputs": [],
   "source": [
    "def readData(filename, inputLabels, outputLabels = ['Sentiment']):\n",
    "    df = pd.read_csv(filename)\n",
    "    #df.fillna(df.mean(), inplace=True)\n",
    "\n",
    "    inputs = [] \n",
    "    target = [] \n",
    "\n",
    "    for _, row in df.iterrows():\n",
    "        inputs.append([row[x] for x in inputLabels])\n",
    "        target.append([row[x] for x in outputLabels])\n",
    "    \n",
    "    if len(inputLabels) == 1:\n",
    "        inputs = np.squeeze(inputs)\n",
    "    if len(outputLabels) == 1:\n",
    "        target = np.squeeze(target)\n",
    "    return inputs, target, list(set(target)) "
   ]
  },
  {
   "cell_type": "code",
   "execution_count": 9,
   "metadata": {},
   "outputs": [],
   "source": [
    "def transformOutputs(outputs):\n",
    "    d = dict()\n",
    "    val = 0\n",
    "    for o in outputs:\n",
    "        if o not in d:\n",
    "            d[o] = val\n",
    "            val += 1\n",
    "    return [d[val] for val in outputs] "
   ]
  },
  {
   "cell_type": "code",
   "execution_count": 11,
   "metadata": {},
   "outputs": [],
   "source": [
    "file = os.path.join(os.getcwd(), 'data', 'reviews_mixed.csv')\n",
    "inputsLabels = ['Text']\n",
    "outputsLabels = ['Sentiment']\n",
    "inputs, outputs, labelNames = readData(file, inputsLabels, outputsLabels)\n",
    "outputs = transformOutputs(outputs)"
   ]
  },
  {
   "cell_type": "code",
   "execution_count": 36,
   "metadata": {},
   "outputs": [
    {
     "name": "stdout",
     "output_type": "stream",
     "text": [
      "['still easy to reach.', 'Some thinks didnt work well : air, tv , open windows,', 'Room was not cleaned even once during our stay.']\n"
     ]
    }
   ],
   "source": [
    "np.random.seed(5)\n",
    "noSamples = len(inputs)\n",
    "indexes = [i for i in range(noSamples)]\n",
    "trainSample = np.random.choice(indexes, int(TRAIN_PERCENTAGE * noSamples), replace = False)\n",
    "testSample = [i for i in indexes  if not i in trainSample]\n",
    "\n",
    "trainInputs = [inputs[i] for i in trainSample]\n",
    "trainOutputs = [outputs[i] for i in trainSample]\n",
    "testInputs = [inputs[i] for i in testSample]\n",
    "testOutputs = [outputs[i] for i in testSample]\n",
    "\n",
    "print(trainInputs[:3])"
   ]
  },
  {
   "cell_type": "code",
   "execution_count": 13,
   "metadata": {},
   "outputs": [
    {
     "name": "stdout",
     "output_type": "stream",
     "text": [
      "[('supporting', 0.6251285076141357), ('suport', 0.6071150302886963), ('suppport', 0.6053199768066406), ('Support', 0.6044272780418396), ('supported', 0.6009396910667419), ('backing', 0.6007589101791382), ('supports', 0.5269277095794678), ('assistance', 0.520713746547699), ('sup_port', 0.5192490220069885), ('supportive', 0.5110024809837341)]\n"
     ]
    }
   ],
   "source": [
    "modelPath = os.path.join(os.getcwd(), 'models', 'GoogleNews-vectors-negative300.bin')\n",
    "\n",
    "word2vecModel = gensim.models.KeyedVectors.load_word2vec_format(modelPath, binary = True)\n",
    "print(word2vecModel.most_similar('support'))"
   ]
  },
  {
   "cell_type": "code",
   "execution_count": 14,
   "metadata": {},
   "outputs": [],
   "source": [
    "def featureComputation(model, data):\n",
    "    features = []\n",
    "    phrases = [phrase.split() for phrase in data]\n",
    "\n",
    "    for phrase in phrases:\n",
    "        vectors = [model[word] for word in phrase if (len(word) > 2) and (word in model.key_to_index)]\n",
    "        if len(vectors) == 0:\n",
    "            result = [0.0] * model.vector_size\n",
    "        else:\n",
    "            result = np.sum(vectors, axis = 0) / len(vectors)\n",
    "        features.append(result)\n",
    "    return features\n",
    "\n",
    "trainFeatures = featureComputation(word2vecModel, trainInputs)\n",
    "testFeatures = featureComputation(word2vecModel, testInputs)"
   ]
  },
  {
   "cell_type": "code",
   "execution_count": 15,
   "metadata": {},
   "outputs": [
    {
     "name": "stderr",
     "output_type": "stream",
     "text": [
      "/Users/victorzarzu/miniconda3/envs/torch-gpu/lib/python3.11/site-packages/sklearn/cluster/_kmeans.py:870: FutureWarning: The default value of `n_init` will change from 10 to 'auto' in 1.4. Set the value of `n_init` explicitly to suppress the warning\n",
      "  warnings.warn(\n"
     ]
    },
    {
     "data": {
      "text/html": [
       "<style>#sk-container-id-1 {color: black;background-color: white;}#sk-container-id-1 pre{padding: 0;}#sk-container-id-1 div.sk-toggleable {background-color: white;}#sk-container-id-1 label.sk-toggleable__label {cursor: pointer;display: block;width: 100%;margin-bottom: 0;padding: 0.3em;box-sizing: border-box;text-align: center;}#sk-container-id-1 label.sk-toggleable__label-arrow:before {content: \"▸\";float: left;margin-right: 0.25em;color: #696969;}#sk-container-id-1 label.sk-toggleable__label-arrow:hover:before {color: black;}#sk-container-id-1 div.sk-estimator:hover label.sk-toggleable__label-arrow:before {color: black;}#sk-container-id-1 div.sk-toggleable__content {max-height: 0;max-width: 0;overflow: hidden;text-align: left;background-color: #f0f8ff;}#sk-container-id-1 div.sk-toggleable__content pre {margin: 0.2em;color: black;border-radius: 0.25em;background-color: #f0f8ff;}#sk-container-id-1 input.sk-toggleable__control:checked~div.sk-toggleable__content {max-height: 200px;max-width: 100%;overflow: auto;}#sk-container-id-1 input.sk-toggleable__control:checked~label.sk-toggleable__label-arrow:before {content: \"▾\";}#sk-container-id-1 div.sk-estimator input.sk-toggleable__control:checked~label.sk-toggleable__label {background-color: #d4ebff;}#sk-container-id-1 div.sk-label input.sk-toggleable__control:checked~label.sk-toggleable__label {background-color: #d4ebff;}#sk-container-id-1 input.sk-hidden--visually {border: 0;clip: rect(1px 1px 1px 1px);clip: rect(1px, 1px, 1px, 1px);height: 1px;margin: -1px;overflow: hidden;padding: 0;position: absolute;width: 1px;}#sk-container-id-1 div.sk-estimator {font-family: monospace;background-color: #f0f8ff;border: 1px dotted black;border-radius: 0.25em;box-sizing: border-box;margin-bottom: 0.5em;}#sk-container-id-1 div.sk-estimator:hover {background-color: #d4ebff;}#sk-container-id-1 div.sk-parallel-item::after {content: \"\";width: 100%;border-bottom: 1px solid gray;flex-grow: 1;}#sk-container-id-1 div.sk-label:hover label.sk-toggleable__label {background-color: #d4ebff;}#sk-container-id-1 div.sk-serial::before {content: \"\";position: absolute;border-left: 1px solid gray;box-sizing: border-box;top: 0;bottom: 0;left: 50%;z-index: 0;}#sk-container-id-1 div.sk-serial {display: flex;flex-direction: column;align-items: center;background-color: white;padding-right: 0.2em;padding-left: 0.2em;position: relative;}#sk-container-id-1 div.sk-item {position: relative;z-index: 1;}#sk-container-id-1 div.sk-parallel {display: flex;align-items: stretch;justify-content: center;background-color: white;position: relative;}#sk-container-id-1 div.sk-item::before, #sk-container-id-1 div.sk-parallel-item::before {content: \"\";position: absolute;border-left: 1px solid gray;box-sizing: border-box;top: 0;bottom: 0;left: 50%;z-index: -1;}#sk-container-id-1 div.sk-parallel-item {display: flex;flex-direction: column;z-index: 1;position: relative;background-color: white;}#sk-container-id-1 div.sk-parallel-item:first-child::after {align-self: flex-end;width: 50%;}#sk-container-id-1 div.sk-parallel-item:last-child::after {align-self: flex-start;width: 50%;}#sk-container-id-1 div.sk-parallel-item:only-child::after {width: 0;}#sk-container-id-1 div.sk-dashed-wrapped {border: 1px dashed gray;margin: 0 0.4em 0.5em 0.4em;box-sizing: border-box;padding-bottom: 0.4em;background-color: white;}#sk-container-id-1 div.sk-label label {font-family: monospace;font-weight: bold;display: inline-block;line-height: 1.2em;}#sk-container-id-1 div.sk-label-container {text-align: center;}#sk-container-id-1 div.sk-container {/* jupyter's `normalize.less` sets `[hidden] { display: none; }` but bootstrap.min.css set `[hidden] { display: none !important; }` so we also need the `!important` here to be able to override the default hidden behavior on the sphinx rendered scikit-learn.org. See: https://github.com/scikit-learn/scikit-learn/issues/21755 */display: inline-block !important;position: relative;}#sk-container-id-1 div.sk-text-repr-fallback {display: none;}</style><div id=\"sk-container-id-1\" class=\"sk-top-container\"><div class=\"sk-text-repr-fallback\"><pre>KMeans(n_clusters=2, random_state=0)</pre><b>In a Jupyter environment, please rerun this cell to show the HTML representation or trust the notebook. <br />On GitHub, the HTML representation is unable to render, please try loading this page with nbviewer.org.</b></div><div class=\"sk-container\" hidden><div class=\"sk-item\"><div class=\"sk-estimator sk-toggleable\"><input class=\"sk-toggleable__control sk-hidden--visually\" id=\"sk-estimator-id-1\" type=\"checkbox\" checked><label for=\"sk-estimator-id-1\" class=\"sk-toggleable__label sk-toggleable__label-arrow\">KMeans</label><div class=\"sk-toggleable__content\"><pre>KMeans(n_clusters=2, random_state=0)</pre></div></div></div></div></div>"
      ],
      "text/plain": [
       "KMeans(n_clusters=2, random_state=0)"
      ]
     },
     "execution_count": 15,
     "metadata": {},
     "output_type": "execute_result"
    }
   ],
   "source": [
    "unsupervisedClassifier = KMeans(n_clusters=2, random_state=0)\n",
    "unsupervisedClassifier.fit(trainFeatures)"
   ]
  },
  {
   "cell_type": "code",
   "execution_count": 16,
   "metadata": {},
   "outputs": [],
   "source": [
    "predicted = unsupervisedClassifier.predict(testFeatures)"
   ]
  },
  {
   "cell_type": "code",
   "execution_count": 17,
   "metadata": {},
   "outputs": [
    {
     "name": "stdout",
     "output_type": "stream",
     "text": [
      "acc:  0.35714285714285715\n"
     ]
    }
   ],
   "source": [
    "print(\"acc: \", accuracy_score(testOutputs, predicted))"
   ]
  },
  {
   "cell_type": "code",
   "execution_count": 21,
   "metadata": {},
   "outputs": [],
   "source": [
    "class EmNet(torch.nn.Module):\n",
    "\n",
    "    def __init__(self):\n",
    "        super(EmNet, self).__init__()\n",
    "\n",
    "        self.l1 = torch.nn.Linear(300, 128)\n",
    "        self.l2 = torch.nn.Linear(128, 32)\n",
    "        self.l3 = torch.nn.Linear(32, 1)\n",
    "    \n",
    "    def forward(self, x):\n",
    "        x = F.relu(self.l1(x))\n",
    "        x = F.relu(self.l2(x))\n",
    "        x = F.sigmoid(self.l3(x))\n",
    "\n",
    "        return x"
   ]
  },
  {
   "cell_type": "code",
   "execution_count": 22,
   "metadata": {},
   "outputs": [],
   "source": [
    "model = EmNet()\n",
    "\n",
    "optimizer = torch.optim.SGD(model.parameters(), lr = LR, weight_decay = 1e-3)\n",
    "loss_fn = torch.nn.BCELoss()"
   ]
  },
  {
   "cell_type": "code",
   "execution_count": 23,
   "metadata": {},
   "outputs": [],
   "source": [
    "def train_one_epoch(trainFeatures, trainOutputs):\n",
    "    avg_loss = 0\n",
    "    avg_accuracy = 0\n",
    "\n",
    "    for data, label in zip(trainFeatures, trainOutputs):\n",
    "\n",
    "        optimizer.zero_grad()\n",
    "\n",
    "        output = model.forward(torch.from_numpy(np.array(data)).float())\n",
    "\n",
    "        label_tensor = torch.tensor(label, dtype=torch.float32).reshape(output.shape)\n",
    "        loss = loss_fn(output, label_tensor)\n",
    "        loss.backward()\n",
    "\n",
    "        optimizer.step()\n"
   ]
  },
  {
   "cell_type": "code",
   "execution_count": 24,
   "metadata": {},
   "outputs": [],
   "source": [
    "def stats(model, inputs, outputs):\n",
    "    avg_loss = 0\n",
    "    avg_accuracy = 0\n",
    "    for data, label in zip(inputs, outputs):\n",
    "        output = model(torch.from_numpy(np.array(data)).float())\n",
    "        label_tensor = torch.tensor(label, dtype=torch.float32).reshape(output.shape)\n",
    "        loss = loss_fn(output, label_tensor)\n",
    "        avg_loss += loss.item()\n",
    "\n",
    "        output = 1 if output.item() > THRESHOLD else 0\n",
    "        if output == label:\n",
    "            avg_accuracy += 1\n",
    "    \n",
    "    return avg_loss / len(inputs), avg_accuracy / len(inputs)"
   ]
  },
  {
   "cell_type": "code",
   "execution_count": 25,
   "metadata": {},
   "outputs": [],
   "source": [
    "timestamp = datetime.now().strftime('%Y%m%d_%H%M%S')\n",
    "#writer = torch.utils.tensorboard.SummaryWriter('./runs/sepia_filter_{}'.format(timestamp))\n",
    "\n",
    "def train(model, trainFeatures, trainOutputs):\n",
    "\n",
    "    train_acc = []\n",
    "    val_acc = []\n",
    "    train_loss = []\n",
    "    val_loss = []\n",
    "    for epoch in range(EPOCHS):\n",
    "\n",
    "        model.train(True)\n",
    "        train_one_epoch(trainFeatures, trainOutputs)\n",
    "        model.train(False)\n",
    "\n",
    "        avg_loss, avg_accuracy = stats(model, trainFeatures, trainOutputs)\n",
    "        train_acc.append(avg_accuracy)\n",
    "        train_loss.append(avg_loss)\n",
    "\n",
    "        running_vloss = 0\n",
    "        avg_vaccuracy = 0\n",
    "        \"\"\"\n",
    "        for _, vdata in enumerate(val_loader):\n",
    "            vinputs, vlabels = vdata\n",
    "            voutputs = model(vinputs)\n",
    "            vloss = loss_fn(voutputs, vlabels.unsqueeze(1).float())\n",
    "            avg_vaccuracy += compute_accuracy(voutputs, vlabels)\n",
    "            running_vloss  += vloss.item()\n",
    "        \n",
    "        avg_vloss = running_vloss / (len(val_loader) + 1)\n",
    "        avg_vaccuracy  = avg_vaccuracy / len(val_loader)\n",
    "        val_acc.append(avg_vaccuracy)\n",
    "        val_loss.append(avg_vloss)\n",
    "        \"\"\"\n",
    "        if epoch % 50 == 0:\n",
    "            print('EPOCH {}'.format(epoch + 1))\n",
    "        ##print('LOSS train_loss = {} train_acc = {} val_loss = {} val_acc = {}'.format(avg_loss, avg_accuracy, avg_vloss, avg_vaccuracy))\n",
    "        #writer.add_scalars('Training vs. Validation Loss',\n",
    "        #                   {'Training': avg_loss, 'Validation': avg_vloss},\n",
    "        #                   epoch + 1)\n",
    "        #writer.flush()\n",
    "    \n",
    "    return train_acc, train_loss, val_acc, val_loss"
   ]
  },
  {
   "cell_type": "code",
   "execution_count": 27,
   "metadata": {},
   "outputs": [
    {
     "name": "stdout",
     "output_type": "stream",
     "text": [
      "EPOCH 1\n",
      "EPOCH 51\n",
      "EPOCH 101\n",
      "EPOCH 151\n",
      "EPOCH 201\n",
      "EPOCH 251\n"
     ]
    }
   ],
   "source": [
    "train_acc, train_loss, val_acc, val_loss = train(model, trainFeatures, trainOutputs)"
   ]
  },
  {
   "cell_type": "code",
   "execution_count": 28,
   "metadata": {},
   "outputs": [
    {
     "data": {
      "image/png": "[encoded data removed]",
      "text/plain": [
       "<Figure size 640x480 with 1 Axes>"
      ]
     },
     "metadata": {},
     "output_type": "display_data"
    }
   ],
   "source": [
    "def plot_stats(train_acc, train_loss, val_acc, val_loss):\n",
    "    rng = list(range(1, EPOCHS + 1))\n",
    "    plt.plot(rng, train_acc, '-r')\n",
    "    plt.plot(rng, train_loss, '-g')\n",
    "\n",
    "plot_stats(train_acc, train_loss, val_acc, val_loss)"
   ]
  },
  {
   "cell_type": "code",
   "execution_count": 44,
   "metadata": {},
   "outputs": [],
   "source": [
    "def compute_accuracy(predicted, labels):\n",
    "    predicted = [1 if pred > THRESHOLD else 0 for pred in predicted]\n",
    "    return sum([p == l for p, l in zip(predicted, labels)]) / len(predicted)"
   ]
  },
  {
   "cell_type": "code",
   "execution_count": 128,
   "metadata": {},
   "outputs": [
    {
     "name": "stdout",
     "output_type": "stream",
     "text": [
      "train acc =  0.9939393939393939\n"
     ]
    }
   ],
   "source": [
    "predicted = [model(torch.from_numpy(np.array(val)).float()).item() for val in trainFeatures]\n",
    "print('train acc = ', compute_accuracy(predicted, trainOutputs))"
   ]
  },
  {
   "cell_type": "code",
   "execution_count": 129,
   "metadata": {},
   "outputs": [
    {
     "name": "stdout",
     "output_type": "stream",
     "text": [
      "test acc =  0.6904761904761905\n"
     ]
    }
   ],
   "source": [
    "predicted = [model(torch.from_numpy(np.array(val)).float()).item() for val in testFeatures]\n",
    "print('test acc = ', compute_accuracy(predicted, testOutputs))"
   ]
  },
  {
   "cell_type": "code",
   "execution_count": 170,
   "metadata": {},
   "outputs": [
    {
     "name": "stdout",
     "output_type": "stream",
     "text": [
      "Epoch 1/10\n",
      "11/11 [==============================] - 0s 2ms/step - loss: 0.5941 - accuracy: 0.6848\n",
      "Epoch 2/10\n",
      "11/11 [==============================] - 0s 2ms/step - loss: 0.5025 - accuracy: 0.7636\n",
      "Epoch 3/10\n",
      "11/11 [==============================] - 0s 2ms/step - loss: 0.3216 - accuracy: 0.8970\n",
      "Epoch 4/10\n",
      "11/11 [==============================] - 0s 2ms/step - loss: 0.0749 - accuracy: 0.9758\n",
      "Epoch 5/10\n",
      "11/11 [==============================] - 0s 2ms/step - loss: 0.0070 - accuracy: 1.0000\n",
      "Epoch 6/10\n",
      "11/11 [==============================] - 0s 2ms/step - loss: 0.0020 - accuracy: 1.0000\n",
      "Epoch 7/10\n",
      "11/11 [==============================] - 0s 2ms/step - loss: 9.8101e-04 - accuracy: 1.0000\n",
      "Epoch 8/10\n",
      "11/11 [==============================] - 0s 2ms/step - loss: 7.5811e-04 - accuracy: 1.0000\n",
      "Epoch 9/10\n",
      "11/11 [==============================] - 0s 2ms/step - loss: 5.5461e-04 - accuracy: 1.0000\n",
      "Epoch 10/10\n",
      "11/11 [==============================] - 0s 2ms/step - loss: 5.8018e-04 - accuracy: 1.0000\n"
     ]
    },
    {
     "data": {
      "text/plain": [
       "<keras.src.callbacks.History at 0x2d3fcfc10>"
      ]
     },
     "execution_count": 170,
     "metadata": {},
     "output_type": "execute_result"
    }
   ],
   "source": [
    "from keras.preprocessing.text import Tokenizer\n",
    "from keras.preprocessing.sequence import pad_sequences\n",
    "from keras.layers import Embedding, Conv1D, GlobalMaxPooling1D, Dense, Dropout\n",
    "from keras.models import Sequential\n",
    "from keras.optimizers.legacy import Nadam\n",
    "\n",
    "x_train = trainInputs\n",
    "y_train = np.array(trainOutputs)\n",
    "\n",
    "max_words = 1000\n",
    "max_len = 100\n",
    "embedding_dim = 16 \n",
    "num_filters = 32 \n",
    "filter_size = 5 \n",
    "hidden_dims = 64 \n",
    "batch_size = 16 \n",
    "epochs = 10  \n",
    "learning_rate = 0.01\n",
    "\n",
    "tokenizer = Tokenizer(num_words=max_words)\n",
    "tokenizer.fit_on_texts(trainInputs)\n",
    "sequences = tokenizer.texts_to_sequences(trainInputs)\n",
    "\n",
    "x_train = pad_sequences(sequences, maxlen=max_len)\n",
    "\n",
    "model = Sequential()\n",
    "model.add(Embedding(max_words, embedding_dim, input_length=max_len))\n",
    "model.add(Conv1D(num_filters, filter_size, activation='selu'))\n",
    "model.add(GlobalMaxPooling1D())\n",
    "model.add(Dense(hidden_dims, activation='selu'))\n",
    "model.add(Dropout(0.6))\n",
    "model.add(Dense(1, activation='sigmoid'))\n",
    "\n",
    "optimizer = Nadam(learning_rate = learning_rate)\n",
    "model.compile(optimizer = optimizer, loss = 'binary_crossentropy', metrics = ['accuracy'])\n",
    "\n",
    "model.fit(x_train, y_train, batch_size = batch_size, epochs = epochs)"
   ]
  },
  {
   "cell_type": "code",
   "execution_count": 171,
   "metadata": {},
   "outputs": [
    {
     "name": "stdout",
     "output_type": "stream",
     "text": [
      "test acc:  0.7142857142857143\n"
     ]
    }
   ],
   "source": [
    "tokenizer = Tokenizer(num_words=max_words)\n",
    "tokenizer.fit_on_texts(testInputs)\n",
    "sequences = tokenizer.texts_to_sequences(testInputs)\n",
    "\n",
    "x_test = pad_sequences(sequences, maxlen=max_len)\n",
    "\n",
    "predicted = model(x_test)\n",
    "print(\"test acc: \", compute_accuracy(predicted, testOutputs))"
   ]
  },
  {
   "cell_type": "code",
   "execution_count": 29,
   "metadata": {},
   "outputs": [],
   "source": [
    "def get_negative_positive(texts):\n",
    "    concatenated = \" \".join(texts)\n",
    "    sia = SentimentIntensityAnalyzer()\n",
    "    \n",
    "    tokens = nltk.word_tokenize(concatenated)\n",
    "\n",
    "    negative_words = []\n",
    "    positive_words = []\n",
    "    for word in tokens:\n",
    "        score = sia.polarity_scores(word)['compound']\n",
    "        if score > 0:\n",
    "            positive_words.append(word)\n",
    "        elif score < 0:\n",
    "            negative_words.append(word)\n",
    "    \n",
    "    return negative_words, positive_words"
   ]
  },
  {
   "cell_type": "code",
   "execution_count": 30,
   "metadata": {},
   "outputs": [],
   "source": [
    "def embed_text(text, negative_words, positive_words):\n",
    "    result = []\n",
    "    for word in positive_words:\n",
    "        result.append(text.count(word))\n",
    "    for word in negative_words:\n",
    "        result.append(text.count(word))\n",
    "    \n",
    "    return result"
   ]
  },
  {
   "cell_type": "code",
   "execution_count": 31,
   "metadata": {},
   "outputs": [],
   "source": [
    "def embed_texts(texts, negative_words, positive_words):\n",
    "    return [embed_text(text, negative_words, positive_words) for text in texts]"
   ]
  },
  {
   "cell_type": "code",
   "execution_count": 46,
   "metadata": {},
   "outputs": [],
   "source": [
    "negative_words, positive_words = get_negative_positive(trainInputs)\n",
    "trainFeatures = embed_texts(trainInputs, positive_words, negative_words)\n",
    "testFeatures = embed_texts(testInputs, positive_words, negative_words)"
   ]
  },
  {
   "cell_type": "code",
   "execution_count": 39,
   "metadata": {},
   "outputs": [],
   "source": [
    "class EmCNet(torch.nn.Module):\n",
    "\n",
    "    def __init__(self):\n",
    "        super(EmCNet, self).__init__()\n",
    "\n",
    "        self.l1 = torch.nn.Linear(134, 63)\n",
    "        self.l2 = torch.nn.Linear(63, 16)\n",
    "        self.l3 = torch.nn.Linear(16, 1)\n",
    "    \n",
    "    def forward(self, x):\n",
    "        x = F.relu(self.l1(x))\n",
    "        x = F.relu(self.l2(x))\n",
    "        x = F.sigmoid(self.l3(x))\n",
    "\n",
    "        return x"
   ]
  },
  {
   "cell_type": "code",
   "execution_count": 40,
   "metadata": {},
   "outputs": [],
   "source": [
    "model = EmCNet()\n",
    "\n",
    "optimizer = torch.optim.SGD(model.parameters(), lr = LR, weight_decay = 1e-3)\n",
    "loss_fn = torch.nn.BCELoss()"
   ]
  },
  {
   "cell_type": "code",
   "execution_count": 42,
   "metadata": {},
   "outputs": [
    {
     "name": "stdout",
     "output_type": "stream",
     "text": [
      "EPOCH 1\n",
      "EPOCH 51\n",
      "EPOCH 101\n",
      "EPOCH 151\n",
      "EPOCH 201\n",
      "EPOCH 251\n"
     ]
    }
   ],
   "source": [
    "train_acc, train_loss, val_acc, val_loss = train(model, trainFeatures, trainOutputs)"
   ]
  },
  {
   "cell_type": "code",
   "execution_count": 45,
   "metadata": {},
   "outputs": [
    {
     "name": "stdout",
     "output_type": "stream",
     "text": [
      "train acc =  0.9090909090909091\n"
     ]
    }
   ],
   "source": [
    "predicted = [model(torch.from_numpy(np.array(val)).float()).item() for val in trainFeatures]\n",
    "print('train acc = ', compute_accuracy(predicted, trainOutputs))"
   ]
  },
  {
   "cell_type": "code",
   "execution_count": 47,
   "metadata": {},
   "outputs": [
    {
     "name": "stdout",
     "output_type": "stream",
     "text": [
      "train acc =  0.7857142857142857\n"
     ]
    }
   ],
   "source": [
    "predicted = [model(torch.from_numpy(np.array(val)).float()).item() for val in testFeatures]\n",
    "print('train acc = ', compute_accuracy(predicted, testOutputs))"
   ]
  }
 ],
 "metadata": {
  "kernelspec": {
   "display_name": "torch-gpu",
   "language": "python",
   "name": "python3"
  },
  "language_info": {
   "codemirror_mode": {
    "name": "ipython",
    "version": 3
   },
   "file_extension": ".py",
   "mimetype": "text/x-python",
   "name": "python",
   "nbconvert_exporter": "python",
   "pygments_lexer": "ipython3",
   "version": "3.11.3"
  },
  "orig_nbformat": 4
 },
 "nbformat": 4,
 "nbformat_minor": 2
}
