{
 "cells": [
  {
   "cell_type": "code",
   "execution_count": 615,
   "metadata": {},
   "outputs": [],
   "source": [
    "import torch\n",
    "import os\n",
    "import cv2\n",
    "import numpy as np\n",
    "from functools import cmp_to_key"
   ]
  },
  {
   "cell_type": "code",
   "execution_count": 616,
   "metadata": {},
   "outputs": [
    {
     "name": "stderr",
     "output_type": "stream",
     "text": [
      "Using cache found in /Users/victorzarzu/.cache/torch/hub/ultralytics_yolov5_master\n",
      "YOLOv5 🚀 2023-4-16 Python-3.10.6 torch-2.0.0 CPU\n",
      "\n",
      "Fusing layers... \n",
      "YOLOv5s summary: 213 layers, 7225885 parameters, 0 gradients\n",
      "Adding AutoShape... \n"
     ]
    },
    {
     "name": "stdout",
     "output_type": "stream",
     "text": [
      "\u001b[31m\u001b[1mrequirements:\u001b[0m /Users/victorzarzu/.cache/torch/hub/requirements.txt not found, check failed.\n"
     ]
    }
   ],
   "source": [
    "model = torch.hub.load('ultralytics/yolov5', 'yolov5s', pretrained = True)"
   ]
  },
  {
   "cell_type": "code",
   "execution_count": 617,
   "metadata": {},
   "outputs": [],
   "source": [
    "BASE_URL = '/Users/victorzarzu/ubb/year2/sem2/ai/lab/lab7/coco128/'\n",
    "images_dir = BASE_URL + 'images/train2017' \n",
    "labels_dir = BASE_URL + 'labels/train2017' "
   ]
  },
  {
   "cell_type": "code",
   "execution_count": 618,
   "metadata": {},
   "outputs": [],
   "source": [
    "def readLabelFile(filename):\n",
    "    result = []\n",
    "    for line in open(filename, 'r'):\n",
    "        row = []\n",
    "        for value in line.split(' '):\n",
    "            row.append(float(value))\n",
    "        result.append(row)\n",
    "    return result"
   ]
  },
  {
   "cell_type": "code",
   "execution_count": 619,
   "metadata": {},
   "outputs": [],
   "source": [
    "def readLabels(filenames): \n",
    "    result = []\n",
    "    for filename in filenames:\n",
    "        result.append(readLabelFile(filename))\n",
    "    return result"
   ]
  },
  {
   "cell_type": "code",
   "execution_count": 620,
   "metadata": {},
   "outputs": [],
   "source": [
    "def readData():\n",
    "    images = []\n",
    "    labelsFiles = []\n",
    "    for info in os.listdir(images_dir):\n",
    "        images.append(os.path.join(images_dir, info))\n",
    "        labelsFiles.append(os.path.join(labels_dir, info.replace('jpg', 'txt')))\n",
    "\n",
    "        #results = model([os.path.join(images_dirpath, image) for image in images])\n",
    "        #print(results.show())\n",
    "    #print(labelsFiles)\n",
    "    labels = readLabels(labelsFiles)\n",
    "    return [images, labels]\n",
    "\n",
    "[images, labels] = readData()"
   ]
  },
  {
   "cell_type": "code",
   "execution_count": 621,
   "metadata": {},
   "outputs": [],
   "source": [
    "def compare(x, y):\n",
    "    for valx, valy in zip(x[1:], y[1:]):\n",
    "        if valx < valy:\n",
    "            return -1\n",
    "        elif valx > valy:\n",
    "            return 1\n",
    "    return 0"
   ]
  },
  {
   "cell_type": "code",
   "execution_count": 622,
   "metadata": {},
   "outputs": [],
   "source": [
    "class YOLOLoss:\n",
    "\n",
    "    def __init__(self, images, predictions, labels):\n",
    "        self.__images = images\n",
    "        self.__predictions = predictions\n",
    "        self.__labels = labels\n",
    "    \n",
    "    def __toExtremities(self, labels, width, height):\n",
    "        for label in labels:\n",
    "            for i in range(1, len(label)):\n",
    "                if i % 2 == 1:\n",
    "                    label[i] *= width\n",
    "                else:\n",
    "                    label[i] *= height\n",
    "            \n",
    "            bbWidth = label[3]\n",
    "            bbHeight = label[4]\n",
    "            label[1] -= bbWidth / 2\n",
    "            label[2] -= bbHeight / 2\n",
    "            label[3] = label[1] + bbWidth\n",
    "            label[4] = label[2] + bbHeight\n",
    "        \n",
    "        return labels\n",
    "\n",
    "    def __transformPredictions(self, predictions):\n",
    "        result = []\n",
    "        for i in range(len(predictions)):\n",
    "            result.append([predictions[i][-1]])\n",
    "            result[i].extend(list(predictions[i][:4]))\n",
    "        return result\n",
    "\n",
    "    def __singleIoU(self, predictions, labels):\n",
    "        x_top_p, y_top_p, x_bottom_p, y_bottom_p = predictions[1], predictions[2], predictions[3], predictions[4]\n",
    "        x_top_l, y_top_l, x_bottom_l, y_bottom_l = labels[1], labels[2], labels[3], labels[4]\n",
    "\n",
    "        x_top = max(x_top_p, x_top_l)\n",
    "        y_top = max(y_top_p, y_top_l)\n",
    "        x_bottom = min(x_bottom_p, x_bottom_l)\n",
    "        y_bottom = min(y_bottom_p, y_bottom_l)\n",
    "\n",
    "        intersection_area = (x_bottom - x_top + 1) * (y_bottom - y_top + 1)\n",
    "\n",
    "        if x_top >= x_bottom or y_top >= y_bottom:\n",
    "            intersection_area = 0\n",
    "        \n",
    "        predicted_area = (x_bottom_p - x_top_p + 1) * (y_bottom_p - y_top_p + 1)\n",
    "        label_area = (x_bottom_l - x_top_l + 1) * (y_bottom_l - y_top_l + 1)\n",
    "\n",
    "        unioun_area = (predicted_area + label_area - intersection_area)\n",
    "\n",
    "        return intersection_area / unioun_area\n",
    "\n",
    "    def __IoU(self, predictions, labels):\n",
    "        predictions = sorted(predictions, key = cmp_to_key(compare))\n",
    "        labels = sorted(labels, key = cmp_to_key(compare))\n",
    "\n",
    "        iou = 0\n",
    "\n",
    "        for prediction, label in zip(predictions, labels):\n",
    "            if prediction[0] == label[0]:\n",
    "                iou += self.__singleIoU(prediction, label)\n",
    "        \n",
    "        return iou\n",
    "\n",
    "    def imageError(self, image, predictions, labels):\n",
    "        img = cv2.imread(image, cv2.IMREAD_UNCHANGED)\n",
    "        height, width = img.shape[0], img.shape[1]\n",
    "\n",
    "        labels = self.__toExtremities(labels, width, height)\n",
    "        predictions = self.__transformPredictions(predictions)\n",
    "        return self.__IoU(predictions, labels)\n",
    "    \n",
    "    def imagesError(self, images, predicitons, labels):\n",
    "        error = 0 \n",
    "        for image, prediction, label in zip(images, predicitons, labels):\n",
    "            error += self.imageError(image, prediction, label)\n",
    "        \n",
    "        return error"
   ]
  },
  {
   "cell_type": "code",
   "execution_count": 623,
   "metadata": {},
   "outputs": [
    {
     "name": "stdout",
     "output_type": "stream",
     "text": [
      "tensor(20.11018)\n"
     ]
    }
   ],
   "source": [
    "results = model(images[:10])\n",
    "loss = YOLOLoss(images = images, predictions = results.xyxy, labels = labels)\n",
    "error = loss.imagesError(images, results.xyxy, labels)\n",
    "print(error)"
   ]
  }
 ],
 "metadata": {
  "kernelspec": {
   "display_name": "base",
   "language": "python",
   "name": "python3"
  },
  "language_info": {
   "codemirror_mode": {
    "name": "ipython",
    "version": 3
   },
   "file_extension": ".py",
   "mimetype": "text/x-python",
   "name": "python",
   "nbconvert_exporter": "python",
   "pygments_lexer": "ipython3",
   "version": "3.10.6"
  },
  "orig_nbformat": 4
 },
 "nbformat": 4,
 "nbformat_minor": 2
}
