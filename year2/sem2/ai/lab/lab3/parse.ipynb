{
 "cells": [
  {
   "cell_type": "code",
   "execution_count": 2,
   "metadata": {},
   "outputs": [],
   "source": [
    "import os\n",
    "import numpy as np\n",
    "import networkx as nx\n",
    "import matplotlib.pyplot as plt\n",
    "import warnings\n",
    "import copy\n",
    "\n",
    "from networkx.algorithms import community\n",
    "\n",
    "warnings.simplefilter('ignore')"
   ]
  },
  {
   "cell_type": "code",
   "execution_count": 3,
   "metadata": {},
   "outputs": [],
   "source": [
    "def readCommunityClasses(filename):\n",
    "    classes = []\n",
    "\n",
    "    with open(filename, \"r\") as file:\n",
    "        for line in file:\n",
    "            classes.append(int(line.split(\" \")[-1]))\n",
    "    \n",
    "    return classes"
   ]
  },
  {
   "cell_type": "code",
   "execution_count": 4,
   "metadata": {},
   "outputs": [],
   "source": [
    "networksPaths = [os.path.join(os.getcwd(), 'data', 'polblogs', 'polblogs.gml'), os.path.join(os.getcwd(), 'data', 'karate', 'karate.gml'), \n",
    "                 os.path.join(os.getcwd(), 'data', 'football', 'football.gml'), os.path.join(os.getcwd(), 'data', 'krebs', 'krebs.gml')]\n",
    "networksLabels = [os.path.join(os.getcwd(), 'data', 'dolphins', 'classLabeldolphins.txt'), os.path.join(os.getcwd(), 'data', 'karate', 'classLabelkarate.txt'), \n",
    "                 os.path.join(os.getcwd(), 'data', 'football', 'classLabelfootball.txt'), os.path.join(os.getcwd(), 'data', 'krebs', 'classLabelkrebs.txt')]\n",
    "\n",
    "G = nx.read_gml(networksPaths[0], label='id')"
   ]
  },
  {
   "cell_type": "code",
   "execution_count": 5,
   "metadata": {},
   "outputs": [],
   "source": [
    "def parse(filename, outputfilename):\n",
    "    nodeId = -1\n",
    "    with open(outputfilename, \"w\") as writefile:\n",
    "        with open(filename, \"r\") as readfile:\n",
    "            for line in readfile:\n",
    "                elems = line.strip().split(\" \")\n",
    "                if len(elems) == 2:\n",
    "                    if elems[0] == \"id\":\n",
    "                        nodeId = int(elems[1])\n",
    "                    elif elems[0] == \"value\":\n",
    "                        writefile.write(str(nodeId) + \" \" + str(int(elems[1]) + 1) + \"\\n\")\n",
    "                    elif elems[0] == \"edge\":\n",
    "                        return"
   ]
  },
  {
   "cell_type": "code",
   "execution_count": 6,
   "metadata": {},
   "outputs": [],
   "source": [
    "parse(os.path.join(os.getcwd(), 'data', 'polblogs', 'polblogs.gml'),os.path.join(os.getcwd(), 'data', 'polblogs', 'classLabelpolblogs.txt') )"
   ]
  },
  {
   "cell_type": "code",
   "execution_count": 7,
   "metadata": {},
   "outputs": [],
   "source": [
    "def readNet(filename):\n",
    "    net = {}\n",
    "\n",
    "    with open(filename, \"r\") as file:\n",
    "        n = int(file.readline())\n",
    "        net['noNoes'] = n\n",
    "\n",
    "        mat = []\n",
    "        degrees = []\n",
    "        noEdges = 0\n",
    "        for i in range(n):\n",
    "            mat.append([])\n",
    "            line = file.readline().strip()\n",
    "            elems = line.split(\" \")\n",
    "\n",
    "            degree = 0\n",
    "            for j in range(n):    \n",
    "                el = int(elems[j])\n",
    "                if el == 1:\n",
    "                    degree += 1\n",
    "                if j > i:\n",
    "                    noEdges += el \n",
    "                    \n",
    "                mat[-1].append(el)\n",
    "            \n",
    "            degrees.append(degree)\n",
    "\n",
    "    net[\"mat\"] = mat\n",
    "    net[\"noEdges\"] = noEdges\n",
    "    net[\"degrees\"] = degrees\n",
    "\n",
    "    return net"
   ]
  },
  {
   "cell_type": "code",
   "execution_count": 8,
   "metadata": {},
   "outputs": [],
   "source": [
    "net = readNet(os.path.join(os.getcwd(), 'data', 'tinamatr', 'tinamatr.in'))\n",
    "A = np.matrix(net[\"mat\"])\n",
    "G = nx.from_numpy_matrix(A)\n",
    "nx.write_gml(G, os.path.join(os.getcwd(), 'data', 'tinamatr', 'tinamatr.gml'))"
   ]
  },
  {
   "cell_type": "code",
   "execution_count": 9,
   "metadata": {},
   "outputs": [],
   "source": [
    "net = readNet(os.path.join(os.getcwd(), 'data', 'bkoff', 'bkoff.in'))\n",
    "A = np.matrix(net[\"mat\"])\n",
    "G = nx.from_numpy_matrix(A)\n",
    "nx.write_gml(G, os.path.join(os.getcwd(), 'data', 'bkoff', 'bkoff.gml'))"
   ]
  },
  {
   "cell_type": "code",
   "execution_count": 10,
   "metadata": {},
   "outputs": [],
   "source": [
    "net = readNet(os.path.join(os.getcwd(), 'data', 'test', 'test.in'))\n",
    "A = np.matrix(net[\"mat\"])\n",
    "G = nx.from_numpy_matrix(A)\n",
    "nx.write_gml(G, os.path.join(os.getcwd(), 'data', 'test', 'test.gml'))"
   ]
  },
  {
   "cell_type": "code",
   "execution_count": 11,
   "metadata": {},
   "outputs": [],
   "source": [
    "def createGraph(nodes, noCommunities, graphFile, labelsFile, pInside = 0.8, pOutside = 0.15):\n",
    "    labels = list(np.random.randint(1, noCommunities + 1, nodes))\n",
    "    mat = []\n",
    "    for i in range(nodes):\n",
    "        row = []\n",
    "        for j in range(nodes):\n",
    "            if i == j:\n",
    "                row.append(0)\n",
    "            else:\n",
    "                if labels[i] == labels[j]:\n",
    "                    row.append(np.random.binomial(1, pInside))\n",
    "                else:\n",
    "                    row.append(np.random.binomial(1, pOutside))\n",
    "        mat.append(row)\n",
    "\n",
    "    A = np.matrix(mat)\n",
    "    G = nx.from_numpy_matrix(A)    \n",
    "    nx.write_gml(G, graphFile)\n",
    "\n",
    "    with open(labelsFile, 'w') as file:\n",
    "        for i in range(nodes):\n",
    "            file.write(str(i) + \" \" + str(labels[i]) + \"\\n\")\n",
    "\n",
    "createGraph(nodes = 100, noCommunities = 5, graphFile = os.path.join(os.getcwd(), 'data', 'unu', 'unu.gml'), labelsFile = os.path.join(os.getcwd(), 'data', 'unu', 'classLabelunu.txt'), pInside = 0.20, pOutside = 0.05)\n",
    "createGraph(nodes = 70, noCommunities = 3, graphFile = os.path.join(os.getcwd(), 'data', 'doi', 'doi.gml'), labelsFile = os.path.join(os.getcwd(), 'data', 'doi', 'classLabeldoi.txt'), pInside = 0.3, pOutside = 0.05)\n",
    "createGraph(nodes = 55, noCommunities = 2, graphFile = os.path.join(os.getcwd(), 'data', 'trei', 'trei.gml'), labelsFile = os.path.join(os.getcwd(), 'data', 'trei', 'classLabeltrei.txt'), pInside = 0.3, pOutside = 0.01)\n",
    "createGraph(nodes = 75, noCommunities = 5, graphFile = os.path.join(os.getcwd(), 'data', 'patru', 'patru.gml'), labelsFile = os.path.join(os.getcwd(), 'data', 'patru', 'classLabelpatru.txt'), pInside = 0.25, pOutside = 0.03)\n",
    "createGraph(nodes = 50, noCommunities = 3, graphFile = os.path.join(os.getcwd(), 'data', 'cinci', 'cinci.gml'), labelsFile = os.path.join(os.getcwd(), 'data', 'cinci', 'classLabelcinci.txt'), pInside = 0.25, pOutside = 0.01)\n",
    "createGraph(nodes = 32, noCommunities = 2, graphFile = os.path.join(os.getcwd(), 'data', 'sase', 'sase.gml'), labelsFile = os.path.join(os.getcwd(), 'data', 'sase', 'classLabelsase.txt'), pInside = 0.2, pOutside = 0.005)"
   ]
  },
  {
   "cell_type": "code",
   "execution_count": 12,
   "metadata": {},
   "outputs": [
    {
     "name": "stdout",
     "output_type": "stream",
     "text": [
      "1\n"
     ]
    }
   ],
   "source": [
    "print(np.random.binomial(1, 0.5))"
   ]
  }
 ],
 "metadata": {
  "kernelspec": {
   "display_name": "base",
   "language": "python",
   "name": "python3"
  },
  "language_info": {
   "codemirror_mode": {
    "name": "ipython",
    "version": 3
   },
   "file_extension": ".py",
   "mimetype": "text/x-python",
   "name": "python",
   "nbconvert_exporter": "python",
   "pygments_lexer": "ipython3",
   "version": "3.10.6"
  },
  "orig_nbformat": 4,
  "vscode": {
   "interpreter": {
    "hash": "c6e4e9f98eb68ad3b7c296f83d20e6de614cb42e90992a65aa266555a3137d0d"
   }
  }
 },
 "nbformat": 4,
 "nbformat_minor": 2
}
